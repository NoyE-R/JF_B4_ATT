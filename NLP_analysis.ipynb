{
 "cells": [
  {
   "cell_type": "markdown",
   "metadata": {},
   "source": [
    "# AT & T"
   ]
  },
  {
   "cell_type": "code",
   "execution_count": 1,
   "metadata": {},
   "outputs": [],
   "source": [
    "#%pip install tensorflow"
   ]
  },
  {
   "cell_type": "code",
   "execution_count": 2,
   "metadata": {},
   "outputs": [],
   "source": [
    "# Import Tensorflow & Pathlib librairies\n",
    "import tensorflow as tf \n",
    "import pathlib \n",
    "import pandas as pd \n",
    "import os\n",
    "import io\n",
    "import warnings\n",
    "warnings.filterwarnings('ignore')"
   ]
  },
  {
   "cell_type": "code",
   "execution_count": 3,
   "metadata": {},
   "outputs": [],
   "source": [
    "import matplotlib.pyplot as plt\n",
    "import json"
   ]
  },
  {
   "cell_type": "code",
   "execution_count": 4,
   "metadata": {},
   "outputs": [
    {
     "name": "stdout",
     "output_type": "stream",
     "text": [
      "2.11.0\n"
     ]
    }
   ],
   "source": [
    "print(tf.__version__)"
   ]
  },
  {
   "cell_type": "markdown",
   "metadata": {},
   "source": [
    "## 1. Importation data"
   ]
  },
  {
   "cell_type": "code",
   "execution_count": 5,
   "metadata": {},
   "outputs": [
    {
     "data": {
      "text/plain": [
       "['01-AT&T_spam_detector.ipynb',\n",
       " 'AvgPooling_binary_20221229_history.json',\n",
       " 'GRU_20221229_history.json',\n",
       " 'LSTM_20221229_history.json',\n",
       " 'NLP analysis.ipynb',\n",
       " 'NLP_analysis_VF.ipynb',\n",
       " 'old',\n",
       " 'RNN_binary_20221229_history.json',\n",
       " 'spam.csv']"
      ]
     },
     "execution_count": 5,
     "metadata": {},
     "output_type": "execute_result"
    }
   ],
   "source": [
    "os.listdir()"
   ]
  },
  {
   "cell_type": "code",
   "execution_count": 6,
   "metadata": {},
   "outputs": [
    {
     "data": {
      "text/html": [
       "<div>\n",
       "<style scoped>\n",
       "    .dataframe tbody tr th:only-of-type {\n",
       "        vertical-align: middle;\n",
       "    }\n",
       "\n",
       "    .dataframe tbody tr th {\n",
       "        vertical-align: top;\n",
       "    }\n",
       "\n",
       "    .dataframe thead th {\n",
       "        text-align: right;\n",
       "    }\n",
       "</style>\n",
       "<table border=\"1\" class=\"dataframe\">\n",
       "  <thead>\n",
       "    <tr style=\"text-align: right;\">\n",
       "      <th></th>\n",
       "      <th>v1</th>\n",
       "      <th>v2</th>\n",
       "      <th>Unnamed: 2</th>\n",
       "      <th>Unnamed: 3</th>\n",
       "      <th>Unnamed: 4</th>\n",
       "    </tr>\n",
       "  </thead>\n",
       "  <tbody>\n",
       "    <tr>\n",
       "      <th>0</th>\n",
       "      <td>ham</td>\n",
       "      <td>Go until jurong point, crazy.. Available only ...</td>\n",
       "      <td>NaN</td>\n",
       "      <td>NaN</td>\n",
       "      <td>NaN</td>\n",
       "    </tr>\n",
       "    <tr>\n",
       "      <th>1</th>\n",
       "      <td>ham</td>\n",
       "      <td>Ok lar... Joking wif u oni...</td>\n",
       "      <td>NaN</td>\n",
       "      <td>NaN</td>\n",
       "      <td>NaN</td>\n",
       "    </tr>\n",
       "    <tr>\n",
       "      <th>2</th>\n",
       "      <td>spam</td>\n",
       "      <td>Free entry in 2 a wkly comp to win FA Cup fina...</td>\n",
       "      <td>NaN</td>\n",
       "      <td>NaN</td>\n",
       "      <td>NaN</td>\n",
       "    </tr>\n",
       "    <tr>\n",
       "      <th>3</th>\n",
       "      <td>ham</td>\n",
       "      <td>U dun say so early hor... U c already then say...</td>\n",
       "      <td>NaN</td>\n",
       "      <td>NaN</td>\n",
       "      <td>NaN</td>\n",
       "    </tr>\n",
       "    <tr>\n",
       "      <th>4</th>\n",
       "      <td>ham</td>\n",
       "      <td>Nah I don't think he goes to usf, he lives aro...</td>\n",
       "      <td>NaN</td>\n",
       "      <td>NaN</td>\n",
       "      <td>NaN</td>\n",
       "    </tr>\n",
       "  </tbody>\n",
       "</table>\n",
       "</div>"
      ],
      "text/plain": [
       "     v1                                                 v2 Unnamed: 2  \\\n",
       "0   ham  Go until jurong point, crazy.. Available only ...        NaN   \n",
       "1   ham                      Ok lar... Joking wif u oni...        NaN   \n",
       "2  spam  Free entry in 2 a wkly comp to win FA Cup fina...        NaN   \n",
       "3   ham  U dun say so early hor... U c already then say...        NaN   \n",
       "4   ham  Nah I don't think he goes to usf, he lives aro...        NaN   \n",
       "\n",
       "  Unnamed: 3 Unnamed: 4  \n",
       "0        NaN        NaN  \n",
       "1        NaN        NaN  \n",
       "2        NaN        NaN  \n",
       "3        NaN        NaN  \n",
       "4        NaN        NaN  "
      ]
     },
     "execution_count": 6,
     "metadata": {},
     "output_type": "execute_result"
    }
   ],
   "source": [
    "train_df = pd.read_csv(\"spam.csv\", encoding='latin-1')\n",
    "train_df.head()"
   ]
  },
  {
   "cell_type": "code",
   "execution_count": 7,
   "metadata": {},
   "outputs": [
    {
     "data": {
      "text/html": [
       "<div>\n",
       "<style scoped>\n",
       "    .dataframe tbody tr th:only-of-type {\n",
       "        vertical-align: middle;\n",
       "    }\n",
       "\n",
       "    .dataframe tbody tr th {\n",
       "        vertical-align: top;\n",
       "    }\n",
       "\n",
       "    .dataframe thead th {\n",
       "        text-align: right;\n",
       "    }\n",
       "</style>\n",
       "<table border=\"1\" class=\"dataframe\">\n",
       "  <thead>\n",
       "    <tr style=\"text-align: right;\">\n",
       "      <th></th>\n",
       "      <th>v1</th>\n",
       "      <th>v2</th>\n",
       "    </tr>\n",
       "  </thead>\n",
       "  <tbody>\n",
       "    <tr>\n",
       "      <th>0</th>\n",
       "      <td>ham</td>\n",
       "      <td>Go until jurong point, crazy.. Available only ...</td>\n",
       "    </tr>\n",
       "    <tr>\n",
       "      <th>1</th>\n",
       "      <td>ham</td>\n",
       "      <td>Ok lar... Joking wif u oni...</td>\n",
       "    </tr>\n",
       "    <tr>\n",
       "      <th>2</th>\n",
       "      <td>spam</td>\n",
       "      <td>Free entry in 2 a wkly comp to win FA Cup fina...</td>\n",
       "    </tr>\n",
       "    <tr>\n",
       "      <th>3</th>\n",
       "      <td>ham</td>\n",
       "      <td>U dun say so early hor... U c already then say...</td>\n",
       "    </tr>\n",
       "    <tr>\n",
       "      <th>4</th>\n",
       "      <td>ham</td>\n",
       "      <td>Nah I don't think he goes to usf, he lives aro...</td>\n",
       "    </tr>\n",
       "  </tbody>\n",
       "</table>\n",
       "</div>"
      ],
      "text/plain": [
       "     v1                                                 v2\n",
       "0   ham  Go until jurong point, crazy.. Available only ...\n",
       "1   ham                      Ok lar... Joking wif u oni...\n",
       "2  spam  Free entry in 2 a wkly comp to win FA Cup fina...\n",
       "3   ham  U dun say so early hor... U c already then say...\n",
       "4   ham  Nah I don't think he goes to usf, he lives aro..."
      ]
     },
     "metadata": {},
     "output_type": "display_data"
    },
    {
     "data": {
      "text/plain": [
       "(5572, 2)"
      ]
     },
     "execution_count": 7,
     "metadata": {},
     "output_type": "execute_result"
    }
   ],
   "source": [
    "train_set = train_df.loc[:, [\"v1\", \"v2\"]]\n",
    "display(train_set.head())\n",
    "train_set.shape"
   ]
  },
  {
   "cell_type": "code",
   "execution_count": 8,
   "metadata": {},
   "outputs": [
    {
     "data": {
      "text/plain": [
       "ham     4825\n",
       "spam     747\n",
       "Name: v1, dtype: int64"
      ]
     },
     "execution_count": 8,
     "metadata": {},
     "output_type": "execute_result"
    }
   ],
   "source": [
    "# balanced classes?\n",
    "train_set[\"v1\"].value_counts()\n",
    "# not balanced class, should include class weight on model"
   ]
  },
  {
   "cell_type": "code",
   "execution_count": 9,
   "metadata": {},
   "outputs": [
    {
     "data": {
      "text/html": [
       "<div>\n",
       "<style scoped>\n",
       "    .dataframe tbody tr th:only-of-type {\n",
       "        vertical-align: middle;\n",
       "    }\n",
       "\n",
       "    .dataframe tbody tr th {\n",
       "        vertical-align: top;\n",
       "    }\n",
       "\n",
       "    .dataframe thead th {\n",
       "        text-align: right;\n",
       "    }\n",
       "</style>\n",
       "<table border=\"1\" class=\"dataframe\">\n",
       "  <thead>\n",
       "    <tr style=\"text-align: right;\">\n",
       "      <th></th>\n",
       "      <th>v1</th>\n",
       "      <th>v2</th>\n",
       "      <th>target</th>\n",
       "    </tr>\n",
       "  </thead>\n",
       "  <tbody>\n",
       "    <tr>\n",
       "      <th>0</th>\n",
       "      <td>ham</td>\n",
       "      <td>Go until jurong point, crazy.. Available only ...</td>\n",
       "      <td>1</td>\n",
       "    </tr>\n",
       "    <tr>\n",
       "      <th>1</th>\n",
       "      <td>ham</td>\n",
       "      <td>Ok lar... Joking wif u oni...</td>\n",
       "      <td>1</td>\n",
       "    </tr>\n",
       "    <tr>\n",
       "      <th>2</th>\n",
       "      <td>spam</td>\n",
       "      <td>Free entry in 2 a wkly comp to win FA Cup fina...</td>\n",
       "      <td>0</td>\n",
       "    </tr>\n",
       "  </tbody>\n",
       "</table>\n",
       "</div>"
      ],
      "text/plain": [
       "     v1                                                 v2  target\n",
       "0   ham  Go until jurong point, crazy.. Available only ...       1\n",
       "1   ham                      Ok lar... Joking wif u oni...       1\n",
       "2  spam  Free entry in 2 a wkly comp to win FA Cup fina...       0"
      ]
     },
     "execution_count": 9,
     "metadata": {},
     "output_type": "execute_result"
    }
   ],
   "source": [
    "train_set[\"target\"] = train_set[\"v1\"].apply(lambda x : 1 if x == \"ham\" else 0)\n",
    "train_set.head(3)"
   ]
  },
  {
   "cell_type": "code",
   "execution_count": 10,
   "metadata": {},
   "outputs": [
    {
     "data": {
      "text/plain": [
       "{0: 3.72958500669344, 1: 0.5774093264248704}"
      ]
     },
     "execution_count": 10,
     "metadata": {},
     "output_type": "execute_result"
    }
   ],
   "source": [
    "# class frequency\n",
    "class_spam = pd.DataFrame(train_set[\"target\"].value_counts())\n",
    "class_spam.sort_index(inplace=True)\n",
    "class_weight = {v: (1 / class_spam.loc[v,\"target\"]) / 2 * class_spam[\"target\"].sum() for v in class_spam.index}\n",
    "class_weight"
   ]
  },
  {
   "cell_type": "code",
   "execution_count": 11,
   "metadata": {},
   "outputs": [
    {
     "data": {
      "text/plain": [
       "Int64Index([0, 1], dtype='int64')"
      ]
     },
     "execution_count": 11,
     "metadata": {},
     "output_type": "execute_result"
    }
   ],
   "source": [
    "class_spam.index"
   ]
  },
  {
   "cell_type": "markdown",
   "metadata": {},
   "source": [
    "## 2. Preprocessing train dataset"
   ]
  },
  {
   "cell_type": "markdown",
   "metadata": {},
   "source": [
    "#### importation library"
   ]
  },
  {
   "cell_type": "code",
   "execution_count": 12,
   "metadata": {},
   "outputs": [],
   "source": [
    "#%pip install spacy"
   ]
  },
  {
   "cell_type": "code",
   "execution_count": 13,
   "metadata": {},
   "outputs": [],
   "source": [
    "#!python -m spacy download en_core_web_md"
   ]
  },
  {
   "cell_type": "markdown",
   "metadata": {},
   "source": [
    "### 2.1 Text encoding"
   ]
  },
  {
   "cell_type": "code",
   "execution_count": 14,
   "metadata": {},
   "outputs": [],
   "source": [
    "import spacy\n",
    "nlp = spacy.load('en_core_web_md')"
   ]
  },
  {
   "cell_type": "code",
   "execution_count": 15,
   "metadata": {},
   "outputs": [],
   "source": [
    "from spacy.lang.en.stop_words import STOP_WORDS"
   ]
  },
  {
   "cell_type": "code",
   "execution_count": 16,
   "metadata": {},
   "outputs": [
    {
     "data": {
      "text/html": [
       "<div>\n",
       "<style scoped>\n",
       "    .dataframe tbody tr th:only-of-type {\n",
       "        vertical-align: middle;\n",
       "    }\n",
       "\n",
       "    .dataframe tbody tr th {\n",
       "        vertical-align: top;\n",
       "    }\n",
       "\n",
       "    .dataframe thead th {\n",
       "        text-align: right;\n",
       "    }\n",
       "</style>\n",
       "<table border=\"1\" class=\"dataframe\">\n",
       "  <thead>\n",
       "    <tr style=\"text-align: right;\">\n",
       "      <th></th>\n",
       "      <th>v1</th>\n",
       "      <th>v2</th>\n",
       "      <th>target</th>\n",
       "      <th>text_clean</th>\n",
       "    </tr>\n",
       "  </thead>\n",
       "  <tbody>\n",
       "    <tr>\n",
       "      <th>0</th>\n",
       "      <td>ham</td>\n",
       "      <td>Go until jurong point, crazy.. Available only ...</td>\n",
       "      <td>1</td>\n",
       "      <td>jurong point crazy available bugis n great wor...</td>\n",
       "    </tr>\n",
       "    <tr>\n",
       "      <th>1</th>\n",
       "      <td>ham</td>\n",
       "      <td>Ok lar... Joking wif u oni...</td>\n",
       "      <td>1</td>\n",
       "      <td>ok lar joke wif u oni</td>\n",
       "    </tr>\n",
       "    <tr>\n",
       "      <th>2</th>\n",
       "      <td>spam</td>\n",
       "      <td>Free entry in 2 a wkly comp to win FA Cup fina...</td>\n",
       "      <td>0</td>\n",
       "      <td>free entry 2 wkly comp win fa cup final tkts 2...</td>\n",
       "    </tr>\n",
       "    <tr>\n",
       "      <th>3</th>\n",
       "      <td>ham</td>\n",
       "      <td>U dun say so early hor... U c already then say...</td>\n",
       "      <td>1</td>\n",
       "      <td>u dun early hor u c</td>\n",
       "    </tr>\n",
       "    <tr>\n",
       "      <th>4</th>\n",
       "      <td>ham</td>\n",
       "      <td>Nah I don't think he goes to usf, he lives aro...</td>\n",
       "      <td>1</td>\n",
       "      <td>nah think usf live</td>\n",
       "    </tr>\n",
       "  </tbody>\n",
       "</table>\n",
       "</div>"
      ],
      "text/plain": [
       "     v1                                                 v2  target  \\\n",
       "0   ham  Go until jurong point, crazy.. Available only ...       1   \n",
       "1   ham                      Ok lar... Joking wif u oni...       1   \n",
       "2  spam  Free entry in 2 a wkly comp to win FA Cup fina...       0   \n",
       "3   ham  U dun say so early hor... U c already then say...       1   \n",
       "4   ham  Nah I don't think he goes to usf, he lives aro...       1   \n",
       "\n",
       "                                          text_clean  \n",
       "0  jurong point crazy available bugis n great wor...  \n",
       "1                              ok lar joke wif u oni  \n",
       "2  free entry 2 wkly comp win fa cup final tkts 2...  \n",
       "3                                u dun early hor u c  \n",
       "4                                 nah think usf live  "
      ]
     },
     "execution_count": 16,
     "metadata": {},
     "output_type": "execute_result"
    }
   ],
   "source": [
    "# text encoding\n",
    "train_set[\"text_clean\"] = train_set[\"v2\"].apply(lambda x : ''.join(ch for ch in x if ch.isalnum() or ch==\" \"))\n",
    "train_set[\"text_clean\"] = train_set[\"text_clean\"].apply(lambda x: x.replace(\"  \",\" \").lower().strip())\n",
    "train_set[\"text_clean\"] = train_set[\"text_clean\"].apply(lambda x: \" \".join([token.lemma_ for token in nlp(x) if (token.lemma_ not in STOP_WORDS) & (token.text not in STOP_WORDS)]))\n",
    "\n",
    "train_set.head()"
   ]
  },
  {
   "cell_type": "markdown",
   "metadata": {},
   "source": [
    "### 2.2 Tensor slices"
   ]
  },
  {
   "cell_type": "code",
   "execution_count": 17,
   "metadata": {},
   "outputs": [],
   "source": [
    "token = tf.keras.preprocessing.text.Tokenizer()"
   ]
  },
  {
   "cell_type": "code",
   "execution_count": 18,
   "metadata": {},
   "outputs": [
    {
     "data": {
      "text/html": [
       "<div>\n",
       "<style scoped>\n",
       "    .dataframe tbody tr th:only-of-type {\n",
       "        vertical-align: middle;\n",
       "    }\n",
       "\n",
       "    .dataframe tbody tr th {\n",
       "        vertical-align: top;\n",
       "    }\n",
       "\n",
       "    .dataframe thead th {\n",
       "        text-align: right;\n",
       "    }\n",
       "</style>\n",
       "<table border=\"1\" class=\"dataframe\">\n",
       "  <thead>\n",
       "    <tr style=\"text-align: right;\">\n",
       "      <th></th>\n",
       "      <th>v1</th>\n",
       "      <th>v2</th>\n",
       "      <th>target</th>\n",
       "      <th>text_clean</th>\n",
       "      <th>text_encoded</th>\n",
       "    </tr>\n",
       "  </thead>\n",
       "  <tbody>\n",
       "    <tr>\n",
       "      <th>0</th>\n",
       "      <td>ham</td>\n",
       "      <td>Go until jurong point, crazy.. Available only ...</td>\n",
       "      <td>1</td>\n",
       "      <td>jurong point crazy available bugis n great wor...</td>\n",
       "      <td>[3626, 229, 443, 460, 941, 35, 50, 203, 942, 7...</td>\n",
       "    </tr>\n",
       "    <tr>\n",
       "      <th>1</th>\n",
       "      <td>ham</td>\n",
       "      <td>Ok lar... Joking wif u oni...</td>\n",
       "      <td>1</td>\n",
       "      <td>ok lar joke wif u oni</td>\n",
       "      <td>[9, 193, 461, 288, 1, 1452]</td>\n",
       "    </tr>\n",
       "    <tr>\n",
       "      <th>2</th>\n",
       "      <td>spam</td>\n",
       "      <td>Free entry in 2 a wkly comp to win FA Cup fina...</td>\n",
       "      <td>0</td>\n",
       "      <td>free entry 2 wkly comp win fa cup final tkts 2...</td>\n",
       "      <td>[12, 299, 3, 532, 661, 33, 1453, 845, 419, 145...</td>\n",
       "    </tr>\n",
       "    <tr>\n",
       "      <th>3</th>\n",
       "      <td>ham</td>\n",
       "      <td>U dun say so early hor... U c already then say...</td>\n",
       "      <td>1</td>\n",
       "      <td>u dun early hor u c</td>\n",
       "      <td>[1, 124, 149, 2372, 1, 83]</td>\n",
       "    </tr>\n",
       "    <tr>\n",
       "      <th>4</th>\n",
       "      <td>ham</td>\n",
       "      <td>Nah I don't think he goes to usf, he lives aro...</td>\n",
       "      <td>1</td>\n",
       "      <td>nah think usf live</td>\n",
       "      <td>[704, 22, 662, 130]</td>\n",
       "    </tr>\n",
       "    <tr>\n",
       "      <th>5</th>\n",
       "      <td>spam</td>\n",
       "      <td>FreeMsg Hey there darling it's been 3 week's n...</td>\n",
       "      <td>0</td>\n",
       "      <td>freemsg hey darle 3 week word d like fun tb ok...</td>\n",
       "      <td>[607, 55, 1773, 93, 38, 121, 32, 14, 236, 1456...</td>\n",
       "    </tr>\n",
       "    <tr>\n",
       "      <th>6</th>\n",
       "      <td>ham</td>\n",
       "      <td>Even my brother is not like to speak with me. ...</td>\n",
       "      <td>1</td>\n",
       "      <td>brother like speak treat like aids patent</td>\n",
       "      <td>[388, 14, 158, 403, 14, 3629, 3630]</td>\n",
       "    </tr>\n",
       "    <tr>\n",
       "      <th>7</th>\n",
       "      <td>ham</td>\n",
       "      <td>As per your request 'Melle Melle (Oru Minnamin...</td>\n",
       "      <td>1</td>\n",
       "      <td>request melle melle oru minnaminunginte nurung...</td>\n",
       "      <td>[663, 1072, 1072, 1457, 1774, 1775, 1776, 356,...</td>\n",
       "    </tr>\n",
       "    <tr>\n",
       "      <th>8</th>\n",
       "      <td>spam</td>\n",
       "      <td>WINNER!! As a valued network customer you have...</td>\n",
       "      <td>0</td>\n",
       "      <td>winner value network customer select receivea ...</td>\n",
       "      <td>[462, 444, 238, 116, 252, 2374, 944, 69, 707, ...</td>\n",
       "    </tr>\n",
       "    <tr>\n",
       "      <th>9</th>\n",
       "      <td>spam</td>\n",
       "      <td>Had your mobile 11 months or more? U R entitle...</td>\n",
       "      <td>0</td>\n",
       "      <td>mobile 11 month u r entitle update late colour...</td>\n",
       "      <td>[34, 768, 170, 1, 27, 846, 326, 68, 357, 34, 2...</td>\n",
       "    </tr>\n",
       "  </tbody>\n",
       "</table>\n",
       "</div>"
      ],
      "text/plain": [
       "     v1                                                 v2  target  \\\n",
       "0   ham  Go until jurong point, crazy.. Available only ...       1   \n",
       "1   ham                      Ok lar... Joking wif u oni...       1   \n",
       "2  spam  Free entry in 2 a wkly comp to win FA Cup fina...       0   \n",
       "3   ham  U dun say so early hor... U c already then say...       1   \n",
       "4   ham  Nah I don't think he goes to usf, he lives aro...       1   \n",
       "5  spam  FreeMsg Hey there darling it's been 3 week's n...       0   \n",
       "6   ham  Even my brother is not like to speak with me. ...       1   \n",
       "7   ham  As per your request 'Melle Melle (Oru Minnamin...       1   \n",
       "8  spam  WINNER!! As a valued network customer you have...       0   \n",
       "9  spam  Had your mobile 11 months or more? U R entitle...       0   \n",
       "\n",
       "                                          text_clean  \\\n",
       "0  jurong point crazy available bugis n great wor...   \n",
       "1                              ok lar joke wif u oni   \n",
       "2  free entry 2 wkly comp win fa cup final tkts 2...   \n",
       "3                                u dun early hor u c   \n",
       "4                                 nah think usf live   \n",
       "5  freemsg hey darle 3 week word d like fun tb ok...   \n",
       "6          brother like speak treat like aids patent   \n",
       "7  request melle melle oru minnaminunginte nurung...   \n",
       "8  winner value network customer select receivea ...   \n",
       "9  mobile 11 month u r entitle update late colour...   \n",
       "\n",
       "                                        text_encoded  \n",
       "0  [3626, 229, 443, 460, 941, 35, 50, 203, 942, 7...  \n",
       "1                        [9, 193, 461, 288, 1, 1452]  \n",
       "2  [12, 299, 3, 532, 661, 33, 1453, 845, 419, 145...  \n",
       "3                         [1, 124, 149, 2372, 1, 83]  \n",
       "4                                [704, 22, 662, 130]  \n",
       "5  [607, 55, 1773, 93, 38, 121, 32, 14, 236, 1456...  \n",
       "6                [388, 14, 158, 403, 14, 3629, 3630]  \n",
       "7  [663, 1072, 1072, 1457, 1774, 1775, 1776, 356,...  \n",
       "8  [462, 444, 238, 116, 252, 2374, 944, 69, 707, ...  \n",
       "9  [34, 768, 170, 1, 27, 846, 326, 68, 357, 34, 2...  "
      ]
     },
     "execution_count": 18,
     "metadata": {},
     "output_type": "execute_result"
    }
   ],
   "source": [
    "token.fit_on_texts(train_set[\"text_clean\"])\n",
    "train_set[\"text_encoded\"] = token.texts_to_sequences(train_set[\"text_clean\"])\n",
    "train_set.head(10)"
   ]
  },
  {
   "cell_type": "code",
   "execution_count": 19,
   "metadata": {},
   "outputs": [
    {
     "data": {
      "text/html": [
       "<div>\n",
       "<style scoped>\n",
       "    .dataframe tbody tr th:only-of-type {\n",
       "        vertical-align: middle;\n",
       "    }\n",
       "\n",
       "    .dataframe tbody tr th {\n",
       "        vertical-align: top;\n",
       "    }\n",
       "\n",
       "    .dataframe thead th {\n",
       "        text-align: right;\n",
       "    }\n",
       "</style>\n",
       "<table border=\"1\" class=\"dataframe\">\n",
       "  <thead>\n",
       "    <tr style=\"text-align: right;\">\n",
       "      <th></th>\n",
       "      <th>v1</th>\n",
       "      <th>v2</th>\n",
       "      <th>target</th>\n",
       "      <th>text_clean</th>\n",
       "      <th>text_encoded</th>\n",
       "      <th>len_text</th>\n",
       "    </tr>\n",
       "  </thead>\n",
       "  <tbody>\n",
       "    <tr>\n",
       "      <th>0</th>\n",
       "      <td>ham</td>\n",
       "      <td>Go until jurong point, crazy.. Available only ...</td>\n",
       "      <td>1</td>\n",
       "      <td>jurong point crazy available bugis n great wor...</td>\n",
       "      <td>[3626, 229, 443, 460, 941, 35, 50, 203, 942, 7...</td>\n",
       "      <td>14</td>\n",
       "    </tr>\n",
       "    <tr>\n",
       "      <th>1</th>\n",
       "      <td>ham</td>\n",
       "      <td>Ok lar... Joking wif u oni...</td>\n",
       "      <td>1</td>\n",
       "      <td>ok lar joke wif u oni</td>\n",
       "      <td>[9, 193, 461, 288, 1, 1452]</td>\n",
       "      <td>6</td>\n",
       "    </tr>\n",
       "    <tr>\n",
       "      <th>2</th>\n",
       "      <td>spam</td>\n",
       "      <td>Free entry in 2 a wkly comp to win FA Cup fina...</td>\n",
       "      <td>0</td>\n",
       "      <td>free entry 2 wkly comp win fa cup final tkts 2...</td>\n",
       "      <td>[12, 299, 3, 532, 661, 33, 1453, 845, 419, 145...</td>\n",
       "      <td>22</td>\n",
       "    </tr>\n",
       "    <tr>\n",
       "      <th>3</th>\n",
       "      <td>ham</td>\n",
       "      <td>U dun say so early hor... U c already then say...</td>\n",
       "      <td>1</td>\n",
       "      <td>u dun early hor u c</td>\n",
       "      <td>[1, 124, 149, 2372, 1, 83]</td>\n",
       "      <td>6</td>\n",
       "    </tr>\n",
       "    <tr>\n",
       "      <th>4</th>\n",
       "      <td>ham</td>\n",
       "      <td>Nah I don't think he goes to usf, he lives aro...</td>\n",
       "      <td>1</td>\n",
       "      <td>nah think usf live</td>\n",
       "      <td>[704, 22, 662, 130]</td>\n",
       "      <td>4</td>\n",
       "    </tr>\n",
       "    <tr>\n",
       "      <th>5</th>\n",
       "      <td>spam</td>\n",
       "      <td>FreeMsg Hey there darling it's been 3 week's n...</td>\n",
       "      <td>0</td>\n",
       "      <td>freemsg hey darle 3 week word d like fun tb ok...</td>\n",
       "      <td>[607, 55, 1773, 93, 38, 121, 32, 14, 236, 1456...</td>\n",
       "      <td>17</td>\n",
       "    </tr>\n",
       "    <tr>\n",
       "      <th>6</th>\n",
       "      <td>ham</td>\n",
       "      <td>Even my brother is not like to speak with me. ...</td>\n",
       "      <td>1</td>\n",
       "      <td>brother like speak treat like aids patent</td>\n",
       "      <td>[388, 14, 158, 403, 14, 3629, 3630]</td>\n",
       "      <td>7</td>\n",
       "    </tr>\n",
       "    <tr>\n",
       "      <th>7</th>\n",
       "      <td>ham</td>\n",
       "      <td>As per your request 'Melle Melle (Oru Minnamin...</td>\n",
       "      <td>1</td>\n",
       "      <td>request melle melle oru minnaminunginte nurung...</td>\n",
       "      <td>[663, 1072, 1072, 1457, 1774, 1775, 1776, 356,...</td>\n",
       "      <td>15</td>\n",
       "    </tr>\n",
       "    <tr>\n",
       "      <th>8</th>\n",
       "      <td>spam</td>\n",
       "      <td>WINNER!! As a valued network customer you have...</td>\n",
       "      <td>0</td>\n",
       "      <td>winner value network customer select receivea ...</td>\n",
       "      <td>[462, 444, 238, 116, 252, 2374, 944, 69, 707, ...</td>\n",
       "      <td>17</td>\n",
       "    </tr>\n",
       "    <tr>\n",
       "      <th>9</th>\n",
       "      <td>spam</td>\n",
       "      <td>Had your mobile 11 months or more? U R entitle...</td>\n",
       "      <td>0</td>\n",
       "      <td>mobile 11 month u r entitle update late colour...</td>\n",
       "      <td>[34, 768, 170, 1, 27, 846, 326, 68, 357, 34, 2...</td>\n",
       "      <td>17</td>\n",
       "    </tr>\n",
       "  </tbody>\n",
       "</table>\n",
       "</div>"
      ],
      "text/plain": [
       "     v1                                                 v2  target  \\\n",
       "0   ham  Go until jurong point, crazy.. Available only ...       1   \n",
       "1   ham                      Ok lar... Joking wif u oni...       1   \n",
       "2  spam  Free entry in 2 a wkly comp to win FA Cup fina...       0   \n",
       "3   ham  U dun say so early hor... U c already then say...       1   \n",
       "4   ham  Nah I don't think he goes to usf, he lives aro...       1   \n",
       "5  spam  FreeMsg Hey there darling it's been 3 week's n...       0   \n",
       "6   ham  Even my brother is not like to speak with me. ...       1   \n",
       "7   ham  As per your request 'Melle Melle (Oru Minnamin...       1   \n",
       "8  spam  WINNER!! As a valued network customer you have...       0   \n",
       "9  spam  Had your mobile 11 months or more? U R entitle...       0   \n",
       "\n",
       "                                          text_clean  \\\n",
       "0  jurong point crazy available bugis n great wor...   \n",
       "1                              ok lar joke wif u oni   \n",
       "2  free entry 2 wkly comp win fa cup final tkts 2...   \n",
       "3                                u dun early hor u c   \n",
       "4                                 nah think usf live   \n",
       "5  freemsg hey darle 3 week word d like fun tb ok...   \n",
       "6          brother like speak treat like aids patent   \n",
       "7  request melle melle oru minnaminunginte nurung...   \n",
       "8  winner value network customer select receivea ...   \n",
       "9  mobile 11 month u r entitle update late colour...   \n",
       "\n",
       "                                        text_encoded  len_text  \n",
       "0  [3626, 229, 443, 460, 941, 35, 50, 203, 942, 7...        14  \n",
       "1                        [9, 193, 461, 288, 1, 1452]         6  \n",
       "2  [12, 299, 3, 532, 661, 33, 1453, 845, 419, 145...        22  \n",
       "3                         [1, 124, 149, 2372, 1, 83]         6  \n",
       "4                                [704, 22, 662, 130]         4  \n",
       "5  [607, 55, 1773, 93, 38, 121, 32, 14, 236, 1456...        17  \n",
       "6                [388, 14, 158, 403, 14, 3629, 3630]         7  \n",
       "7  [663, 1072, 1072, 1457, 1774, 1775, 1776, 356,...        15  \n",
       "8  [462, 444, 238, 116, 252, 2374, 944, 69, 707, ...        17  \n",
       "9  [34, 768, 170, 1, 27, 846, 326, 68, 357, 34, 2...        17  "
      ]
     },
     "metadata": {},
     "output_type": "display_data"
    },
    {
     "data": {
      "text/plain": [
       "(5555, 6)"
      ]
     },
     "execution_count": 19,
     "metadata": {},
     "output_type": "execute_result"
    }
   ],
   "source": [
    "train_set[\"len_text\"] = train_set[\"text_encoded\"].apply(lambda x: len(x))\n",
    "train_set = train_set[train_set[\"len_text\"]!=0]\n",
    "display(train_set.head(10))\n",
    "train_set.shape"
   ]
  },
  {
   "cell_type": "code",
   "execution_count": 20,
   "metadata": {},
   "outputs": [
    {
     "data": {
      "text/plain": [
       "72"
      ]
     },
     "execution_count": 20,
     "metadata": {},
     "output_type": "execute_result"
    }
   ],
   "source": [
    "train_set[\"len_text\"].max()"
   ]
  },
  {
   "cell_type": "code",
   "execution_count": 21,
   "metadata": {},
   "outputs": [],
   "source": [
    "train_pad = tf.keras.preprocessing.sequence.pad_sequences(train_set[\"text_encoded\"], padding=\"post\")"
   ]
  },
  {
   "cell_type": "code",
   "execution_count": 22,
   "metadata": {},
   "outputs": [
    {
     "data": {
      "text/plain": [
       "(5555, 72)"
      ]
     },
     "execution_count": 22,
     "metadata": {},
     "output_type": "execute_result"
    }
   ],
   "source": [
    "train_pad.shape"
   ]
  },
  {
   "cell_type": "markdown",
   "metadata": {},
   "source": [
    "### 2.3 Train val sets"
   ]
  },
  {
   "cell_type": "code",
   "execution_count": 23,
   "metadata": {},
   "outputs": [],
   "source": [
    "from sklearn.model_selection import train_test_split\n",
    "xtrain, xval, ytrain, yval = train_test_split(train_pad, train_set[\"target\"],\n",
    "                                              test_size=0.3, random_state=0,\n",
    "                                              stratify=train_set[\"target\"])"
   ]
  },
  {
   "cell_type": "code",
   "execution_count": 24,
   "metadata": {},
   "outputs": [],
   "source": [
    "train = tf.data.Dataset.from_tensor_slices((xtrain, ytrain))\n",
    "val = tf.data.Dataset.from_tensor_slices((xval, yval))"
   ]
  },
  {
   "cell_type": "code",
   "execution_count": 25,
   "metadata": {},
   "outputs": [],
   "source": [
    "train_data = train.shuffle(len(train)).batch(64)\n",
    "val_data = val.shuffle(len(val)).batch(64)"
   ]
  },
  {
   "cell_type": "code",
   "execution_count": 26,
   "metadata": {},
   "outputs": [
    {
     "name": "stdout",
     "output_type": "stream",
     "text": [
      "x: tf.Tensor(\n",
      "[[  93  154   34 ...    0    0    0]\n",
      " [ 102 4523  285 ...    0    0    0]\n",
      " [ 269   40   43 ...    0    0    0]\n",
      " ...\n",
      " [  58  791   16 ...    0    0    0]\n",
      " [  87    4  168 ...    0    0    0]\n",
      " [  45  132  125 ...    0    0    0]], shape=(64, 72), dtype=int32)\n",
      "y: tf.Tensor(\n",
      "[0 1 1 1 0 1 1 1 1 1 1 1 1 1 1 1 1 1 1 1 1 1 1 1 1 1 1 1 1 1 1 1 1 1 1 0 1\n",
      " 1 0 1 0 1 1 1 1 1 0 1 1 1 1 1 1 1 0 1 0 1 1 0 1 1 1 1], shape=(64,), dtype=int64)\n"
     ]
    }
   ],
   "source": [
    "for x, y in train_data.take(1):\n",
    "  print('x:',x)\n",
    "  print('y:',y)"
   ]
  },
  {
   "cell_type": "markdown",
   "metadata": {},
   "source": [
    "## 3. Modelling"
   ]
  },
  {
   "cell_type": "code",
   "execution_count": 27,
   "metadata": {},
   "outputs": [],
   "source": [
    "from tensorflow.keras import Sequential\n",
    "from tensorflow.keras.layers import Dense, Dropout, Embedding, GlobalAveragePooling1D, GRU, SimpleRNN, LSTM"
   ]
  },
  {
   "cell_type": "code",
   "execution_count": 28,
   "metadata": {},
   "outputs": [],
   "source": [
    "from tensorflow.keras.losses import SparseCategoricalCrossentropy\n",
    "from tensorflow.keras.optimizers import Adam"
   ]
  },
  {
   "cell_type": "markdown",
   "metadata": {},
   "source": [
    "- used variables"
   ]
  },
  {
   "cell_type": "code",
   "execution_count": 29,
   "metadata": {},
   "outputs": [],
   "source": [
    "embedding_dim = 64\n",
    "vocab_size = len(token.word_counts)"
   ]
  },
  {
   "cell_type": "code",
   "execution_count": 30,
   "metadata": {},
   "outputs": [
    {
     "data": {
      "text/plain": [
       "8218"
      ]
     },
     "execution_count": 30,
     "metadata": {},
     "output_type": "execute_result"
    }
   ],
   "source": [
    "vocab_size"
   ]
  },
  {
   "attachments": {},
   "cell_type": "markdown",
   "metadata": {},
   "source": [
    "### 3.1 Model 1: global average embedding"
   ]
  },
  {
   "cell_type": "code",
   "execution_count": 31,
   "metadata": {},
   "outputs": [],
   "source": [
    "modelGAP = Sequential([\n",
    "  Embedding(vocab_size+1, embedding_dim, input_shape=[x.shape[1],], name=\"embedding\"), \n",
    "  GlobalAveragePooling1D(),\n",
    "  Dense(16, activation='relu'),\n",
    "  Dropout(0.6),\n",
    "  Dense(2, activation=\"sigmoid\") #better than Dense(2, activation=\"softmax\")\n",
    "])"
   ]
  },
  {
   "cell_type": "code",
   "execution_count": 32,
   "metadata": {},
   "outputs": [
    {
     "name": "stdout",
     "output_type": "stream",
     "text": [
      "Model: \"sequential\"\n",
      "_________________________________________________________________\n",
      " Layer (type)                Output Shape              Param #   \n",
      "=================================================================\n",
      " embedding (Embedding)       (None, 72, 64)            526016    \n",
      "                                                                 \n",
      " global_average_pooling1d (G  (None, 64)               0         \n",
      " lobalAveragePooling1D)                                          \n",
      "                                                                 \n",
      " dense (Dense)               (None, 16)                1040      \n",
      "                                                                 \n",
      " dropout (Dropout)           (None, 16)                0         \n",
      "                                                                 \n",
      " dense_1 (Dense)             (None, 2)                 34        \n",
      "                                                                 \n",
      "=================================================================\n",
      "Total params: 527,090\n",
      "Trainable params: 527,090\n",
      "Non-trainable params: 0\n",
      "_________________________________________________________________\n"
     ]
    }
   ],
   "source": [
    "modelGAP.summary()"
   ]
  },
  {
   "cell_type": "code",
   "execution_count": 33,
   "metadata": {},
   "outputs": [],
   "source": [
    "# model compilation\n",
    "optimizer = tf.keras.optimizers.Adam(learning_rate=0.0008)\n",
    "modelGAP.compile(optimizer=optimizer,\n",
    "              loss=tf.keras.losses.SparseCategoricalCrossentropy(),\n",
    "              metrics=[tf.keras.metrics.SparseCategoricalAccuracy()])"
   ]
  },
  {
   "cell_type": "code",
   "execution_count": 34,
   "metadata": {},
   "outputs": [
    {
     "name": "stdout",
     "output_type": "stream",
     "text": [
      "Epoch 1/30\n",
      "61/61 [==============================] - 3s 17ms/step - loss: 0.6908 - sparse_categorical_accuracy: 0.5882 - val_loss: 0.6773 - val_sparse_categorical_accuracy: 0.9466\n",
      "Epoch 2/30\n",
      "61/61 [==============================] - 1s 12ms/step - loss: 0.6736 - sparse_categorical_accuracy: 0.7767 - val_loss: 0.6487 - val_sparse_categorical_accuracy: 0.9772\n",
      "Epoch 3/30\n",
      "61/61 [==============================] - 1s 12ms/step - loss: 0.6184 - sparse_categorical_accuracy: 0.8724 - val_loss: 0.5730 - val_sparse_categorical_accuracy: 0.9772\n",
      "Epoch 4/30\n",
      "61/61 [==============================] - 1s 12ms/step - loss: 0.5070 - sparse_categorical_accuracy: 0.8835 - val_loss: 0.4092 - val_sparse_categorical_accuracy: 0.9814\n",
      "Epoch 5/30\n",
      "61/61 [==============================] - 1s 12ms/step - loss: 0.3742 - sparse_categorical_accuracy: 0.9180 - val_loss: 0.2423 - val_sparse_categorical_accuracy: 0.9814\n",
      "Epoch 6/30\n",
      "61/61 [==============================] - 1s 13ms/step - loss: 0.2866 - sparse_categorical_accuracy: 0.9437 - val_loss: 0.1869 - val_sparse_categorical_accuracy: 0.9820\n",
      "Epoch 7/30\n",
      "61/61 [==============================] - 1s 11ms/step - loss: 0.2197 - sparse_categorical_accuracy: 0.9537 - val_loss: 0.1668 - val_sparse_categorical_accuracy: 0.9850\n",
      "Epoch 8/30\n",
      "61/61 [==============================] - 1s 12ms/step - loss: 0.1762 - sparse_categorical_accuracy: 0.9540 - val_loss: 0.1022 - val_sparse_categorical_accuracy: 0.9844\n",
      "Epoch 9/30\n",
      "61/61 [==============================] - 1s 13ms/step - loss: 0.1705 - sparse_categorical_accuracy: 0.9601 - val_loss: 0.0829 - val_sparse_categorical_accuracy: 0.9868\n",
      "Epoch 10/30\n",
      "61/61 [==============================] - 1s 12ms/step - loss: 0.1385 - sparse_categorical_accuracy: 0.9630 - val_loss: 0.1041 - val_sparse_categorical_accuracy: 0.9868\n",
      "Epoch 11/30\n",
      "61/61 [==============================] - 1s 12ms/step - loss: 0.1266 - sparse_categorical_accuracy: 0.9588 - val_loss: 0.0811 - val_sparse_categorical_accuracy: 0.9880\n",
      "Epoch 12/30\n",
      "61/61 [==============================] - 1s 12ms/step - loss: 0.1136 - sparse_categorical_accuracy: 0.9678 - val_loss: 0.0644 - val_sparse_categorical_accuracy: 0.9868\n",
      "Epoch 13/30\n",
      "61/61 [==============================] - 1s 12ms/step - loss: 0.1008 - sparse_categorical_accuracy: 0.9658 - val_loss: 0.0724 - val_sparse_categorical_accuracy: 0.9880\n",
      "Epoch 14/30\n",
      "61/61 [==============================] - 1s 12ms/step - loss: 0.0874 - sparse_categorical_accuracy: 0.9720 - val_loss: 0.0589 - val_sparse_categorical_accuracy: 0.9898\n",
      "Epoch 15/30\n",
      "61/61 [==============================] - 1s 12ms/step - loss: 0.0865 - sparse_categorical_accuracy: 0.9689 - val_loss: 0.0503 - val_sparse_categorical_accuracy: 0.9898\n",
      "Epoch 16/30\n",
      "61/61 [==============================] - 1s 13ms/step - loss: 0.0800 - sparse_categorical_accuracy: 0.9668 - val_loss: 0.0526 - val_sparse_categorical_accuracy: 0.9880\n",
      "Epoch 17/30\n",
      "61/61 [==============================] - 1s 12ms/step - loss: 0.0681 - sparse_categorical_accuracy: 0.9715 - val_loss: 0.0442 - val_sparse_categorical_accuracy: 0.9898\n",
      "Epoch 18/30\n",
      "61/61 [==============================] - 1s 13ms/step - loss: 0.0691 - sparse_categorical_accuracy: 0.9689 - val_loss: 0.0408 - val_sparse_categorical_accuracy: 0.9892\n",
      "Epoch 19/30\n",
      "61/61 [==============================] - 1s 11ms/step - loss: 0.0694 - sparse_categorical_accuracy: 0.9671 - val_loss: 0.0514 - val_sparse_categorical_accuracy: 0.9874\n",
      "Epoch 20/30\n",
      "61/61 [==============================] - 1s 12ms/step - loss: 0.0563 - sparse_categorical_accuracy: 0.9699 - val_loss: 0.0457 - val_sparse_categorical_accuracy: 0.9874\n",
      "Epoch 21/30\n",
      "61/61 [==============================] - 1s 12ms/step - loss: 0.0496 - sparse_categorical_accuracy: 0.9733 - val_loss: 0.0390 - val_sparse_categorical_accuracy: 0.9898\n",
      "Epoch 22/30\n",
      "61/61 [==============================] - 1s 11ms/step - loss: 0.0519 - sparse_categorical_accuracy: 0.9771 - val_loss: 0.0400 - val_sparse_categorical_accuracy: 0.9898\n",
      "Epoch 23/30\n",
      "61/61 [==============================] - 1s 12ms/step - loss: 0.0484 - sparse_categorical_accuracy: 0.9712 - val_loss: 0.0436 - val_sparse_categorical_accuracy: 0.9868\n",
      "Epoch 24/30\n",
      "61/61 [==============================] - 1s 12ms/step - loss: 0.0432 - sparse_categorical_accuracy: 0.9725 - val_loss: 0.0366 - val_sparse_categorical_accuracy: 0.9898\n",
      "Epoch 25/30\n",
      "61/61 [==============================] - 1s 12ms/step - loss: 0.0481 - sparse_categorical_accuracy: 0.9702 - val_loss: 0.0412 - val_sparse_categorical_accuracy: 0.9874\n",
      "Epoch 26/30\n",
      "61/61 [==============================] - 1s 19ms/step - loss: 0.0448 - sparse_categorical_accuracy: 0.9722 - val_loss: 0.0368 - val_sparse_categorical_accuracy: 0.9898\n",
      "Epoch 27/30\n",
      "61/61 [==============================] - 1s 15ms/step - loss: 0.0354 - sparse_categorical_accuracy: 0.9936 - val_loss: 0.0372 - val_sparse_categorical_accuracy: 0.9904\n",
      "Epoch 28/30\n",
      "61/61 [==============================] - 1s 12ms/step - loss: 0.0375 - sparse_categorical_accuracy: 0.9931 - val_loss: 0.0364 - val_sparse_categorical_accuracy: 0.9898\n",
      "Epoch 29/30\n",
      "61/61 [==============================] - 1s 12ms/step - loss: 0.0375 - sparse_categorical_accuracy: 0.9918 - val_loss: 0.0365 - val_sparse_categorical_accuracy: 0.9904\n",
      "Epoch 30/30\n",
      "61/61 [==============================] - 1s 14ms/step - loss: 0.0434 - sparse_categorical_accuracy: 0.9900 - val_loss: 0.0370 - val_sparse_categorical_accuracy: 0.9904\n"
     ]
    },
    {
     "data": {
      "text/plain": [
       "<keras.callbacks.History at 0x2466f6f2560>"
      ]
     },
     "execution_count": 34,
     "metadata": {},
     "output_type": "execute_result"
    }
   ],
   "source": [
    "# model fitting\n",
    "modelGAP.fit(\n",
    "    train_data,\n",
    "    validation_data=val_data,\n",
    "    class_weight=class_weight,\n",
    "    epochs=30)"
   ]
  },
  {
   "cell_type": "code",
   "execution_count": 35,
   "metadata": {},
   "outputs": [
    {
     "data": {
      "image/png": "[encoded data removed]",
      "text/plain": [
       "<Figure size 640x480 with 1 Axes>"
      ]
     },
     "metadata": {},
     "output_type": "display_data"
    }
   ],
   "source": [
    "# plot model\n",
    "# Visualization of the training process on the loss function \n",
    "plt.plot(modelGAP.history.history[\"loss\"], color=\"b\")\n",
    "plt.plot(modelGAP.history.history[\"val_loss\"], color=\"r\")\n",
    "plt.ylabel(\"loss\")\n",
    "plt.xlabel(\"Epochs\")\n",
    "plt.show()"
   ]
  },
  {
   "cell_type": "code",
   "execution_count": 36,
   "metadata": {},
   "outputs": [
    {
     "data": {
      "image/png": "[encoded data removed]",
      "text/plain": [
       "<Figure size 640x480 with 1 Axes>"
      ]
     },
     "metadata": {},
     "output_type": "display_data"
    }
   ],
   "source": [
    "plt.plot(modelGAP.history.history[\"sparse_categorical_accuracy\"], color=\"b\")\n",
    "plt.plot(modelGAP.history.history[\"val_sparse_categorical_accuracy\"], color=\"r\")\n",
    "plt.ylabel(\"Accuracy\")\n",
    "plt.xlabel(\"Epochs\")\n",
    "plt.show()"
   ]
  },
  {
   "cell_type": "code",
   "execution_count": 37,
   "metadata": {},
   "outputs": [
    {
     "name": "stdout",
     "output_type": "stream",
     "text": [
      "53/53 [==============================] - 0s 2ms/step\n",
      "              precision    recall  f1-score   support\n",
      "\n",
      "           0       0.99      0.94      0.96       224\n",
      "           1       0.99      1.00      0.99      1443\n",
      "\n",
      "    accuracy                           0.99      1667\n",
      "   macro avg       0.99      0.97      0.98      1667\n",
      "weighted avg       0.99      0.99      0.99      1667\n",
      "\n"
     ]
    }
   ],
   "source": [
    "from sklearn.metrics import classification_report\n",
    "yp_val = modelGAP.predict(xval)\n",
    "print(classification_report(yval, yp_val.argmax(axis=1)))"
   ]
  },
  {
   "cell_type": "code",
   "execution_count": 38,
   "metadata": {},
   "outputs": [
    {
     "data": {
      "image/png": "[encoded data removed]",
      "text/plain": [
       "<Figure size 640x480 with 2 Axes>"
      ]
     },
     "metadata": {},
     "output_type": "display_data"
    }
   ],
   "source": [
    "from sklearn.metrics import ConfusionMatrixDisplay\n",
    "\n",
    "# plot\n",
    "_ , ax = plt.subplots()\n",
    "ax.set(title=\"Confusion Matrix on Test set\")\n",
    "ConfusionMatrixDisplay.from_predictions(yval, yp_val.argmax(axis=1), ax=ax)\n",
    "plt.show()"
   ]
  },
  {
   "cell_type": "code",
   "execution_count": 39,
   "metadata": {},
   "outputs": [],
   "source": [
    "# saving model\n",
    "json.dump(modelGAP.history.history, open(\"AvgPooling_binary_history.json\", 'w'))"
   ]
  },
  {
   "attachments": {},
   "cell_type": "markdown",
   "metadata": {},
   "source": [
    "### 3.2 Model 2: Simple RNN"
   ]
  },
  {
   "cell_type": "code",
   "execution_count": 40,
   "metadata": {},
   "outputs": [],
   "source": [
    "modelRNN = Sequential([\n",
    "  Embedding(vocab_size+1, embedding_dim, input_shape=[x.shape[1],], name=\"embedding\"),\n",
    "  SimpleRNN(units=64, return_sequences=True), # maintains the sequential nature\n",
    "  SimpleRNN(units=32, return_sequences=False), # returns the last output\n",
    "  Dense(16, activation='relu'),\n",
    "  Dropout(0.4),\n",
    "  Dense(2, activation=\"sigmoid\")\n",
    "])"
   ]
  },
  {
   "cell_type": "code",
   "execution_count": 41,
   "metadata": {},
   "outputs": [
    {
     "name": "stdout",
     "output_type": "stream",
     "text": [
      "Model: \"sequential_1\"\n",
      "_________________________________________________________________\n",
      " Layer (type)                Output Shape              Param #   \n",
      "=================================================================\n",
      " embedding (Embedding)       (None, 72, 64)            526016    \n",
      "                                                                 \n",
      " simple_rnn (SimpleRNN)      (None, 72, 64)            8256      \n",
      "                                                                 \n",
      " simple_rnn_1 (SimpleRNN)    (None, 32)                3104      \n",
      "                                                                 \n",
      " dense_2 (Dense)             (None, 16)                528       \n",
      "                                                                 \n",
      " dropout_1 (Dropout)         (None, 16)                0         \n",
      "                                                                 \n",
      " dense_3 (Dense)             (None, 2)                 34        \n",
      "                                                                 \n",
      "=================================================================\n",
      "Total params: 537,938\n",
      "Trainable params: 537,938\n",
      "Non-trainable params: 0\n",
      "_________________________________________________________________\n"
     ]
    }
   ],
   "source": [
    "modelRNN.summary()"
   ]
  },
  {
   "cell_type": "code",
   "execution_count": 42,
   "metadata": {},
   "outputs": [],
   "source": [
    "# model compilation\n",
    "optimizer = tf.keras.optimizers.Adam(learning_rate=0.0001)\n",
    "modelRNN.compile(optimizer=optimizer,\n",
    "                loss=tf.keras.losses.SparseCategoricalCrossentropy(),\n",
    "                metrics=[tf.keras.metrics.SparseCategoricalAccuracy()])"
   ]
  },
  {
   "cell_type": "code",
   "execution_count": 43,
   "metadata": {},
   "outputs": [
    {
     "name": "stdout",
     "output_type": "stream",
     "text": [
      "Epoch 1/10\n",
      "61/61 [==============================] - 8s 54ms/step - loss: 0.5771 - sparse_categorical_accuracy: 0.7945 - val_loss: 0.5231 - val_sparse_categorical_accuracy: 0.7726\n",
      "Epoch 2/10\n",
      "61/61 [==============================] - 3s 46ms/step - loss: 0.4771 - sparse_categorical_accuracy: 0.8369 - val_loss: 0.4476 - val_sparse_categorical_accuracy: 0.8242\n",
      "Epoch 3/10\n",
      "61/61 [==============================] - 3s 47ms/step - loss: 0.3763 - sparse_categorical_accuracy: 0.9025 - val_loss: 0.3367 - val_sparse_categorical_accuracy: 0.8866\n",
      "Epoch 4/10\n",
      "61/61 [==============================] - 3s 50ms/step - loss: 0.2908 - sparse_categorical_accuracy: 0.9465 - val_loss: 0.3237 - val_sparse_categorical_accuracy: 0.8722\n",
      "Epoch 5/10\n",
      "61/61 [==============================] - 3s 45ms/step - loss: 0.2087 - sparse_categorical_accuracy: 0.9748 - val_loss: 0.1784 - val_sparse_categorical_accuracy: 0.9496\n",
      "Epoch 6/10\n",
      "61/61 [==============================] - 3s 48ms/step - loss: 0.1551 - sparse_categorical_accuracy: 0.9895 - val_loss: 0.1585 - val_sparse_categorical_accuracy: 0.9508\n",
      "Epoch 7/10\n",
      "61/61 [==============================] - 3s 48ms/step - loss: 0.0993 - sparse_categorical_accuracy: 0.9933 - val_loss: 0.1362 - val_sparse_categorical_accuracy: 0.9610\n",
      "Epoch 8/10\n",
      "61/61 [==============================] - 3s 48ms/step - loss: 0.0758 - sparse_categorical_accuracy: 0.9959 - val_loss: 0.1720 - val_sparse_categorical_accuracy: 0.9466\n",
      "Epoch 9/10\n",
      "61/61 [==============================] - 3s 50ms/step - loss: 0.0614 - sparse_categorical_accuracy: 0.9990 - val_loss: 0.1862 - val_sparse_categorical_accuracy: 0.9418\n",
      "Epoch 10/10\n",
      "61/61 [==============================] - 3s 50ms/step - loss: 0.0629 - sparse_categorical_accuracy: 0.9985 - val_loss: 0.1693 - val_sparse_categorical_accuracy: 0.9502\n"
     ]
    },
    {
     "data": {
      "text/plain": [
       "<keras.callbacks.History at 0x246721c7fd0>"
      ]
     },
     "execution_count": 43,
     "metadata": {},
     "output_type": "execute_result"
    }
   ],
   "source": [
    "# model fitting\n",
    "modelRNN.fit(\n",
    "    train_data,\n",
    "    validation_data=val_data,\n",
    "    class_weight=class_weight,\n",
    "    epochs=10)"
   ]
  },
  {
   "cell_type": "code",
   "execution_count": 44,
   "metadata": {},
   "outputs": [
    {
     "data": {
      "image/png": "[encoded data removed]",
      "text/plain": [
       "<Figure size 640x480 with 1 Axes>"
      ]
     },
     "metadata": {},
     "output_type": "display_data"
    }
   ],
   "source": [
    "# plot model\n",
    "# Visualization of the training process on the loss function \n",
    "plt.plot(modelRNN.history.history[\"loss\"], color=\"b\")\n",
    "plt.plot(modelRNN.history.history[\"val_loss\"], color=\"r\")\n",
    "plt.ylabel(\"loss\")\n",
    "plt.xlabel(\"Epochs\")\n",
    "plt.show()"
   ]
  },
  {
   "cell_type": "code",
   "execution_count": 45,
   "metadata": {},
   "outputs": [
    {
     "data": {
      "image/png": "[encoded data removed]",
      "text/plain": [
       "<Figure size 640x480 with 1 Axes>"
      ]
     },
     "metadata": {},
     "output_type": "display_data"
    }
   ],
   "source": [
    "plt.plot(modelRNN.history.history[\"sparse_categorical_accuracy\"], color=\"b\")\n",
    "plt.plot(modelRNN.history.history[\"val_sparse_categorical_accuracy\"], color=\"r\")\n",
    "plt.ylabel(\"Accuracy\")\n",
    "plt.xlabel(\"Epochs\")\n",
    "plt.show()"
   ]
  },
  {
   "cell_type": "code",
   "execution_count": 46,
   "metadata": {},
   "outputs": [],
   "source": [
    "# saving model\n",
    "json.dump(modelRNN.history.history, open(\"RNN_binary_history.json\", 'w'))"
   ]
  },
  {
   "attachments": {},
   "cell_type": "markdown",
   "metadata": {},
   "source": [
    "### 3.3 Model 3: GRU"
   ]
  },
  {
   "cell_type": "code",
   "execution_count": 47,
   "metadata": {},
   "outputs": [],
   "source": [
    "# model architecture\n",
    "modelGRU = Sequential([\n",
    "  Embedding(vocab_size+1, embedding_dim, input_shape=[x.shape[1],], name=\"embedding\"),\n",
    "  GRU(units=64, return_sequences=True),\n",
    "  GRU(units=32, return_sequences=False),\n",
    "  Dense(16, activation='relu'),\n",
    "  Dropout(0.4),\n",
    "  Dense(2, activation=\"sigmoid\") # better than Dense(2, activation=\"softmax\")\n",
    "])"
   ]
  },
  {
   "cell_type": "code",
   "execution_count": 48,
   "metadata": {},
   "outputs": [
    {
     "name": "stdout",
     "output_type": "stream",
     "text": [
      "Model: \"sequential_2\"\n",
      "_________________________________________________________________\n",
      " Layer (type)                Output Shape              Param #   \n",
      "=================================================================\n",
      " embedding (Embedding)       (None, 72, 64)            526016    \n",
      "                                                                 \n",
      " gru (GRU)                   (None, 72, 64)            24960     \n",
      "                                                                 \n",
      " gru_1 (GRU)                 (None, 32)                9408      \n",
      "                                                                 \n",
      " dense_4 (Dense)             (None, 16)                528       \n",
      "                                                                 \n",
      " dropout_2 (Dropout)         (None, 16)                0         \n",
      "                                                                 \n",
      " dense_5 (Dense)             (None, 2)                 34        \n",
      "                                                                 \n",
      "=================================================================\n",
      "Total params: 560,946\n",
      "Trainable params: 560,946\n",
      "Non-trainable params: 0\n",
      "_________________________________________________________________\n"
     ]
    }
   ],
   "source": [
    "modelGRU.summary()"
   ]
  },
  {
   "cell_type": "code",
   "execution_count": 49,
   "metadata": {},
   "outputs": [],
   "source": [
    "# model compilation\n",
    "optimizer = tf.keras.optimizers.Adam(learning_rate=0.0001)\n",
    "modelGRU.compile(optimizer=optimizer,\n",
    "              loss=tf.keras.losses.SparseCategoricalCrossentropy(),\n",
    "              metrics=[tf.keras.metrics.SparseCategoricalAccuracy()])"
   ]
  },
  {
   "cell_type": "code",
   "execution_count": 50,
   "metadata": {},
   "outputs": [
    {
     "name": "stdout",
     "output_type": "stream",
     "text": [
      "Epoch 1/20\n",
      "61/61 [==============================] - 15s 114ms/step - loss: 0.6945 - sparse_categorical_accuracy: 0.6780 - val_loss: 0.6875 - val_sparse_categorical_accuracy: 0.8656\n",
      "Epoch 2/20\n",
      "61/61 [==============================] - 6s 101ms/step - loss: 0.6941 - sparse_categorical_accuracy: 0.6595 - val_loss: 0.6885 - val_sparse_categorical_accuracy: 0.8656\n",
      "Epoch 3/20\n",
      "61/61 [==============================] - 6s 99ms/step - loss: 0.6944 - sparse_categorical_accuracy: 0.6631 - val_loss: 0.6877 - val_sparse_categorical_accuracy: 0.8656\n",
      "Epoch 4/20\n",
      "61/61 [==============================] - 6s 100ms/step - loss: 0.6941 - sparse_categorical_accuracy: 0.5154 - val_loss: 0.6900 - val_sparse_categorical_accuracy: 0.8656\n",
      "Epoch 5/20\n",
      "61/61 [==============================] - 6s 99ms/step - loss: 0.6946 - sparse_categorical_accuracy: 0.5877 - val_loss: 0.6922 - val_sparse_categorical_accuracy: 0.8656\n",
      "Epoch 6/20\n",
      "61/61 [==============================] - 6s 98ms/step - loss: 0.6942 - sparse_categorical_accuracy: 0.5157 - val_loss: 0.6908 - val_sparse_categorical_accuracy: 0.8656\n",
      "Epoch 7/20\n",
      "61/61 [==============================] - 6s 100ms/step - loss: 0.6941 - sparse_categorical_accuracy: 0.5836 - val_loss: 0.6884 - val_sparse_categorical_accuracy: 0.8656\n",
      "Epoch 8/20\n",
      "61/61 [==============================] - 7s 110ms/step - loss: 0.6940 - sparse_categorical_accuracy: 0.5777 - val_loss: 0.6861 - val_sparse_categorical_accuracy: 0.8656\n",
      "Epoch 9/20\n",
      "61/61 [==============================] - 7s 111ms/step - loss: 0.6944 - sparse_categorical_accuracy: 0.5671 - val_loss: 0.6892 - val_sparse_categorical_accuracy: 0.8656\n",
      "Epoch 10/20\n",
      "61/61 [==============================] - 7s 114ms/step - loss: 0.6942 - sparse_categorical_accuracy: 0.5705 - val_loss: 0.6912 - val_sparse_categorical_accuracy: 0.8656\n",
      "Epoch 11/20\n",
      "61/61 [==============================] - 6s 104ms/step - loss: 0.6942 - sparse_categorical_accuracy: 0.5239 - val_loss: 0.6921 - val_sparse_categorical_accuracy: 0.8656\n",
      "Epoch 12/20\n",
      "61/61 [==============================] - 6s 103ms/step - loss: 0.6942 - sparse_categorical_accuracy: 0.1957 - val_loss: 0.6951 - val_sparse_categorical_accuracy: 0.1344\n",
      "Epoch 13/20\n",
      "61/61 [==============================] - 6s 99ms/step - loss: 0.6941 - sparse_categorical_accuracy: 0.1350 - val_loss: 0.6949 - val_sparse_categorical_accuracy: 0.1344\n",
      "Epoch 14/20\n",
      "61/61 [==============================] - 6s 100ms/step - loss: 0.6941 - sparse_categorical_accuracy: 0.1350 - val_loss: 0.6951 - val_sparse_categorical_accuracy: 0.1344\n",
      "Epoch 15/20\n",
      "61/61 [==============================] - 6s 103ms/step - loss: 0.6941 - sparse_categorical_accuracy: 0.1350 - val_loss: 0.6950 - val_sparse_categorical_accuracy: 0.1344\n",
      "Epoch 16/20\n",
      "61/61 [==============================] - 8s 136ms/step - loss: 0.6941 - sparse_categorical_accuracy: 0.1350 - val_loss: 0.6950 - val_sparse_categorical_accuracy: 0.1344\n",
      "Epoch 17/20\n",
      "61/61 [==============================] - 7s 107ms/step - loss: 0.6941 - sparse_categorical_accuracy: 0.1350 - val_loss: 0.6949 - val_sparse_categorical_accuracy: 0.1344\n",
      "Epoch 18/20\n",
      "61/61 [==============================] - 7s 113ms/step - loss: 0.6941 - sparse_categorical_accuracy: 0.1350 - val_loss: 0.6950 - val_sparse_categorical_accuracy: 0.1344\n",
      "Epoch 19/20\n",
      "61/61 [==============================] - 7s 112ms/step - loss: 0.6941 - sparse_categorical_accuracy: 0.1350 - val_loss: 0.6950 - val_sparse_categorical_accuracy: 0.1344\n",
      "Epoch 20/20\n",
      "61/61 [==============================] - 6s 99ms/step - loss: 0.6941 - sparse_categorical_accuracy: 0.1345 - val_loss: 0.6952 - val_sparse_categorical_accuracy: 0.1344\n"
     ]
    },
    {
     "data": {
      "text/plain": [
       "<keras.callbacks.History at 0x246748f7880>"
      ]
     },
     "execution_count": 50,
     "metadata": {},
     "output_type": "execute_result"
    }
   ],
   "source": [
    "# model fitting\n",
    "modelGRU.fit(\n",
    "    train_data,\n",
    "    validation_data=val_data,\n",
    "    class_weight=class_weight,\n",
    "    epochs=20)"
   ]
  },
  {
   "cell_type": "code",
   "execution_count": 51,
   "metadata": {},
   "outputs": [
    {
     "data": {
      "image/png": "[encoded data removed]",
      "text/plain": [
       "<Figure size 640x480 with 1 Axes>"
      ]
     },
     "metadata": {},
     "output_type": "display_data"
    }
   ],
   "source": [
    "plt.plot(modelGRU.history.history[\"loss\"], color=\"b\")\n",
    "plt.plot(modelGRU.history.history[\"val_loss\"], color=\"r\")\n",
    "plt.ylabel(\"loss\")\n",
    "plt.xlabel(\"Epochs\")\n",
    "plt.show()"
   ]
  },
  {
   "cell_type": "code",
   "execution_count": 52,
   "metadata": {},
   "outputs": [
    {
     "data": {
      "image/png": "[encoded data removed]",
      "text/plain": [
       "<Figure size 640x480 with 1 Axes>"
      ]
     },
     "metadata": {},
     "output_type": "display_data"
    }
   ],
   "source": [
    "plt.plot(modelGRU.history.history[\"sparse_categorical_accuracy\"], color=\"b\")\n",
    "plt.plot(modelGRU.history.history[\"val_sparse_categorical_accuracy\"], color=\"r\")\n",
    "plt.ylabel(\"Accuracy\")\n",
    "plt.xlabel(\"Epochs\")\n",
    "plt.show()"
   ]
  },
  {
   "cell_type": "code",
   "execution_count": null,
   "metadata": {},
   "outputs": [],
   "source": [
    "# saving model\n",
    "json.dump(modelGRU.history.history, open(\"GRU_history.json\", 'w'))"
   ]
  },
  {
   "attachments": {},
   "cell_type": "markdown",
   "metadata": {},
   "source": [
    "### 3.4 Model 4: LSTM"
   ]
  },
  {
   "cell_type": "code",
   "execution_count": 54,
   "metadata": {},
   "outputs": [],
   "source": [
    "# model architecture\n",
    "modelLSTM = Sequential([\n",
    "  Embedding(vocab_size+1, embedding_dim, input_shape=[x.shape[1],], name=\"embedding\"),\n",
    "  LSTM(units=64, return_sequences=True),\n",
    "  LSTM(units=32, return_sequences=False),\n",
    "  Dense(16, activation='relu'),\n",
    "  Dropout(0.4),\n",
    "  Dense(2, activation=\"sigmoid\") # better than Dense(2, activation=\"softmax\")\n",
    "])"
   ]
  },
  {
   "cell_type": "code",
   "execution_count": 55,
   "metadata": {},
   "outputs": [
    {
     "name": "stdout",
     "output_type": "stream",
     "text": [
      "Model: \"sequential_3\"\n",
      "_________________________________________________________________\n",
      " Layer (type)                Output Shape              Param #   \n",
      "=================================================================\n",
      " embedding (Embedding)       (None, 72, 64)            526016    \n",
      "                                                                 \n",
      " lstm (LSTM)                 (None, 72, 64)            33024     \n",
      "                                                                 \n",
      " lstm_1 (LSTM)               (None, 32)                12416     \n",
      "                                                                 \n",
      " dense_6 (Dense)             (None, 16)                528       \n",
      "                                                                 \n",
      " dropout_3 (Dropout)         (None, 16)                0         \n",
      "                                                                 \n",
      " dense_7 (Dense)             (None, 2)                 34        \n",
      "                                                                 \n",
      "=================================================================\n",
      "Total params: 572,018\n",
      "Trainable params: 572,018\n",
      "Non-trainable params: 0\n",
      "_________________________________________________________________\n"
     ]
    }
   ],
   "source": [
    "modelLSTM.summary()"
   ]
  },
  {
   "cell_type": "code",
   "execution_count": 56,
   "metadata": {},
   "outputs": [],
   "source": [
    "# model compilation\n",
    "optimizer = tf.keras.optimizers.Adam(learning_rate=0.0005)\n",
    "modelLSTM.compile(optimizer=optimizer,\n",
    "              loss=tf.keras.losses.SparseCategoricalCrossentropy(),\n",
    "              metrics=[tf.keras.metrics.SparseCategoricalAccuracy()])"
   ]
  },
  {
   "cell_type": "code",
   "execution_count": 57,
   "metadata": {},
   "outputs": [
    {
     "name": "stdout",
     "output_type": "stream",
     "text": [
      "Epoch 1/20\n",
      "61/61 [==============================] - 15s 148ms/step - loss: 0.6949 - sparse_categorical_accuracy: 0.6368 - val_loss: 0.6997 - val_sparse_categorical_accuracy: 0.1344\n",
      "Epoch 2/20\n",
      "61/61 [==============================] - 8s 125ms/step - loss: 0.6944 - sparse_categorical_accuracy: 0.5270 - val_loss: 0.6953 - val_sparse_categorical_accuracy: 0.1344\n",
      "Epoch 3/20\n",
      "61/61 [==============================] - 8s 126ms/step - loss: 0.6942 - sparse_categorical_accuracy: 0.2109 - val_loss: 0.6944 - val_sparse_categorical_accuracy: 0.1344\n",
      "Epoch 4/20\n",
      "61/61 [==============================] - 8s 124ms/step - loss: 0.6942 - sparse_categorical_accuracy: 0.5682 - val_loss: 0.6804 - val_sparse_categorical_accuracy: 0.8656\n",
      "Epoch 5/20\n",
      "61/61 [==============================] - 8s 124ms/step - loss: 0.6945 - sparse_categorical_accuracy: 0.3843 - val_loss: 0.6965 - val_sparse_categorical_accuracy: 0.1344\n",
      "Epoch 6/20\n",
      "61/61 [==============================] - 7s 123ms/step - loss: 0.6942 - sparse_categorical_accuracy: 0.1350 - val_loss: 0.6963 - val_sparse_categorical_accuracy: 0.1344\n",
      "Epoch 7/20\n",
      "61/61 [==============================] - 8s 123ms/step - loss: 0.6942 - sparse_categorical_accuracy: 0.1348 - val_loss: 0.6966 - val_sparse_categorical_accuracy: 0.1344\n",
      "Epoch 8/20\n",
      "61/61 [==============================] - 8s 126ms/step - loss: 0.6941 - sparse_categorical_accuracy: 0.1350 - val_loss: 0.6965 - val_sparse_categorical_accuracy: 0.1344\n",
      "Epoch 9/20\n",
      "61/61 [==============================] - 7s 122ms/step - loss: 0.6941 - sparse_categorical_accuracy: 0.1350 - val_loss: 0.6967 - val_sparse_categorical_accuracy: 0.1344\n",
      "Epoch 10/20\n",
      "61/61 [==============================] - 7s 122ms/step - loss: 0.6941 - sparse_categorical_accuracy: 0.1350 - val_loss: 0.6947 - val_sparse_categorical_accuracy: 0.1344\n",
      "Epoch 11/20\n",
      "61/61 [==============================] - 8s 123ms/step - loss: 0.6941 - sparse_categorical_accuracy: 0.1626 - val_loss: 0.6954 - val_sparse_categorical_accuracy: 0.1344\n",
      "Epoch 12/20\n",
      "61/61 [==============================] - 7s 122ms/step - loss: 0.6941 - sparse_categorical_accuracy: 0.1350 - val_loss: 0.6963 - val_sparse_categorical_accuracy: 0.1344\n",
      "Epoch 13/20\n",
      "61/61 [==============================] - 7s 122ms/step - loss: 0.6940 - sparse_categorical_accuracy: 0.1350 - val_loss: 0.6964 - val_sparse_categorical_accuracy: 0.1344\n",
      "Epoch 14/20\n",
      "61/61 [==============================] - 7s 122ms/step - loss: 0.6940 - sparse_categorical_accuracy: 0.1350 - val_loss: 0.6953 - val_sparse_categorical_accuracy: 0.1344\n",
      "Epoch 15/20\n",
      "61/61 [==============================] - 7s 123ms/step - loss: 0.6940 - sparse_categorical_accuracy: 0.1350 - val_loss: 0.6957 - val_sparse_categorical_accuracy: 0.1344\n",
      "Epoch 16/20\n",
      "61/61 [==============================] - 8s 123ms/step - loss: 0.6940 - sparse_categorical_accuracy: 0.1427 - val_loss: 0.6944 - val_sparse_categorical_accuracy: 0.1344\n",
      "Epoch 17/20\n",
      "61/61 [==============================] - 7s 123ms/step - loss: 0.7058 - sparse_categorical_accuracy: 0.2384 - val_loss: 0.6965 - val_sparse_categorical_accuracy: 0.1344\n",
      "Epoch 18/20\n",
      "61/61 [==============================] - 8s 123ms/step - loss: 0.6940 - sparse_categorical_accuracy: 0.1350 - val_loss: 0.6959 - val_sparse_categorical_accuracy: 0.1344\n",
      "Epoch 19/20\n",
      "61/61 [==============================] - 7s 122ms/step - loss: 0.6940 - sparse_categorical_accuracy: 0.1350 - val_loss: 0.6966 - val_sparse_categorical_accuracy: 0.1344\n",
      "Epoch 20/20\n",
      "61/61 [==============================] - 7s 122ms/step - loss: 0.6940 - sparse_categorical_accuracy: 0.1350 - val_loss: 0.6963 - val_sparse_categorical_accuracy: 0.1344\n"
     ]
    },
    {
     "data": {
      "text/plain": [
       "<keras.callbacks.History at 0x24675dffcd0>"
      ]
     },
     "execution_count": 57,
     "metadata": {},
     "output_type": "execute_result"
    }
   ],
   "source": [
    "# model fitting\n",
    "modelLSTM.fit(\n",
    "    train_data,\n",
    "    validation_data=val_data,\n",
    "    class_weight=class_weight,\n",
    "    epochs=20)"
   ]
  },
  {
   "cell_type": "code",
   "execution_count": 58,
   "metadata": {},
   "outputs": [
    {
     "data": {
      "image/png": "[encoded data removed]",
      "text/plain": [
       "<Figure size 640x480 with 1 Axes>"
      ]
     },
     "metadata": {},
     "output_type": "display_data"
    }
   ],
   "source": [
    "plt.plot(modelLSTM.history.history[\"loss\"], color=\"b\")\n",
    "plt.plot(modelLSTM.history.history[\"val_loss\"], color=\"r\")\n",
    "plt.ylabel(\"loss\")\n",
    "plt.xlabel(\"Epochs\")\n",
    "plt.show()"
   ]
  },
  {
   "cell_type": "code",
   "execution_count": 59,
   "metadata": {},
   "outputs": [
    {
     "data": {
      "image/png": "[encoded data removed]",
      "text/plain": [
       "<Figure size 640x480 with 1 Axes>"
      ]
     },
     "metadata": {},
     "output_type": "display_data"
    }
   ],
   "source": [
    "plt.plot(modelLSTM.history.history[\"sparse_categorical_accuracy\"], color=\"b\")\n",
    "plt.plot(modelLSTM.history.history[\"val_sparse_categorical_accuracy\"], color=\"r\")\n",
    "plt.ylabel(\"Accuracy\")\n",
    "plt.xlabel(\"Epochs\")\n",
    "plt.show()"
   ]
  },
  {
   "cell_type": "code",
   "execution_count": 60,
   "metadata": {},
   "outputs": [],
   "source": [
    "# saving model\n",
    "json.dump(modelLSTM.history.history, open(\"LSTM_history.json\", 'w'))"
   ]
  }
 ],
 "metadata": {
  "kernelspec": {
   "display_name": "Python 3.10.8 64-bit (microsoft store)",
   "language": "python",
   "name": "python3"
  },
  "language_info": {
   "codemirror_mode": {
    "name": "ipython",
    "version": 3
   },
   "file_extension": ".py",
   "mimetype": "text/x-python",
   "name": "python",
   "nbconvert_exporter": "python",
   "pygments_lexer": "ipython3",
   "version": "3.10.8"
  },
  "vscode": {
   "interpreter": {
    "hash": "f051514c3c3f25d6a4d371df10e2175126c3741bf115cca1aeaf8b2da7487448"
   }
  }
 },
 "nbformat": 4,
 "nbformat_minor": 4
}
